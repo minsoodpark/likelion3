{
 "cells": [
  {
   "cell_type": "code",
   "execution_count": 1,
   "metadata": {},
   "outputs": [],
   "source": [
    "import requests # from urllib.request import urlopen\n",
    "from bs4 import BeautifulSoup # HTTP Response -> HTML \n",
    "\n",
    "import re #정규 표현식 활용"
   ]
  },
  {
   "cell_type": "code",
   "execution_count": 2,
   "metadata": {},
   "outputs": [],
   "source": [
    "#망고플레이트에서 음식을 키워드로 맛집 리스트 가져오는 function\n",
    "def get_rest_list(keyword):\n",
    "    \n",
    "    #페이지, 맛집리스트 초기화\n",
    "    pagenum = 1\n",
    "    restaurant_list = []\n",
    "    \n",
    "    #page별로 while 루프 돌려서 상호명 뽑아오기\n",
    "    while pagenum <= 10:\n",
    "        try:\n",
    "            url = 'https://www.mangoplate.com/search/?keyword='+keyword+'&page='+str(pagenum)\n",
    "\n",
    "            session = requests.Session()\n",
    "            headers = {\n",
    "            \"User-Agent\": \"Mozilla/5.0 (Macintosh; Intel Mac OS X 10_9_5) AppleWebKit 537.36 (KHTML, like Gecko) Chrome\",\n",
    "            \"Accept\": \"text/html,application/xhtml+xml,application/xml;q=0.9,image/webp,*/*;q=0.8\"\n",
    "            }\n",
    "            html = session.get(url, headers=headers).content \n",
    "            source = BeautifulSoup(html, 'html.parser')\n",
    "\n",
    "            restaurants = source.find_all('h2', {'class' : 'title'}) #h2태그의 class 'title' => 상호명\n",
    "\n",
    "            for restaurant in restaurants:\n",
    "\n",
    "                n_restaurant = re.sub('\\s', '', restaurant.get_text()) #텍스트 중간에 빈칸 없애기\n",
    "                restaurant_list.append(n_restaurant)\n",
    "        except:\n",
    "            print(pagenum,'페이지 까지의 결과입니다.')\n",
    "        \n",
    "        pagenum += 1\n",
    "        \n",
    "    return restaurant_list"
   ]
  },
  {
   "cell_type": "code",
   "execution_count": 33,
   "metadata": {},
   "outputs": [
    {
     "data": {
      "text/plain": [
       "['허브족발(본점)',\n",
       " '윤밀원',\n",
       " '김진목삼',\n",
       " '진미평양냉면',\n",
       " '을지면옥',\n",
       " '서관면옥',\n",
       " '광릉한옥집',\n",
       " '광화문국밥',\n",
       " '춘향미엔',\n",
       " '우래옥(을지로점)',\n",
       " '설눈',\n",
       " '봉밀가',\n",
       " '봉피양(방이점)',\n",
       " '미엔아이',\n",
       " '윤선희의평양냉면양각도',\n",
       " '청기와타운',\n",
       " '서평면옥',\n",
       " '몽탄',\n",
       " '정인면옥',\n",
       " '강서면옥',\n",
       " '오장동흥남집(본점)',\n",
       " '봉래면옥',\n",
       " '거대갈비',\n",
       " '평안도상원냉면',\n",
       " '명지원이동갈비',\n",
       " '오복함흥냉면',\n",
       " '벽제갈비(신촌점)',\n",
       " '공단떡볶이',\n",
       " '고명집',\n",
       " '우밀면옥',\n",
       " '단천식당',\n",
       " '명인등심(압구정점)',\n",
       " '평남면옥',\n",
       " '서정가야밀면',\n",
       " '더진미평냉',\n",
       " '명인등심(삼성직영점)',\n",
       " '영동냉면',\n",
       " '을밀대(본점)',\n",
       " '능라도(강남점)',\n",
       " '능라도(분당점)',\n",
       " '옥돌현옥',\n",
       " '배꼽집(본점)',\n",
       " '마부자생삼겹살',\n",
       " '삼원가든(휴업중)(본점)',\n",
       " '더미(광화문본점)',\n",
       " '우육미',\n",
       " '매향',\n",
       " '태천면옥',\n",
       " '옛곰탕집',\n",
       " '송월냉면',\n",
       " '청송함흥냉면',\n",
       " '고자리칡냉면(본점)',\n",
       " '목장원',\n",
       " '능라도(일산점)',\n",
       " '마담밍',\n",
       " '평양면옥(본점)',\n",
       " '서북면옥',\n",
       " '필동면옥',\n",
       " '반룡산',\n",
       " '푸줏간생고기점',\n",
       " '외래향(서울대점)',\n",
       " '진남포면옥',\n",
       " '양수면옥',\n",
       " '성일면옥(본점)',\n",
       " '평양일미',\n",
       " '의정부평양면옥',\n",
       " '청수장',\n",
       " '청류관',\n",
       " '명인등심(청담점)',\n",
       " '대원옥',\n",
       " '옥류담',\n",
       " '그늘집',\n",
       " '이학갈비',\n",
       " '장수분식',\n",
       " '강남면옥',\n",
       " '평양면옥(의정부본점)',\n",
       " '하연옥(본점)',\n",
       " '금왕평양면옥',\n",
       " '평양옥',\n",
       " '만포막국수',\n",
       " '당인동국수공장',\n",
       " '정인면옥',\n",
       " '육덕식당',\n",
       " '색다른면',\n",
       " '서초면옥(교대본점)',\n",
       " '내호냉면',\n",
       " '평양냉면',\n",
       " '면옥향천',\n",
       " '메르밀진미집(본점)',\n",
       " '본가제일면가',\n",
       " '신다리',\n",
       " '벽제갈비(방이본점)',\n",
       " '미시락칼국수',\n",
       " '송포갈비',\n",
       " '만포면옥',\n",
       " '뽕족(강남역본점)',\n",
       " '의정부평양면옥(스타필드고양)',\n",
       " '박군자진주냉면(시흥점)',\n",
       " '오실장강남면옥',\n",
       " '을밀대(강남점)',\n",
       " '유진식당',\n",
       " '봉우이층집',\n",
       " '신다신',\n",
       " '송추가마골(송추본관점)',\n",
       " '락원',\n",
       " '능라평양냉면',\n",
       " '을밀대',\n",
       " '연백냉면',\n",
       " '능라도(광화문점)',\n",
       " '옥빈관',\n",
       " '을밀대(롯데백화점잠실점)',\n",
       " '관악관',\n",
       " '배꼽집(여의도점)',\n",
       " '이조면옥',\n",
       " '청학동칡냉면',\n",
       " '서촌이가면옥',\n",
       " '우정집',\n",
       " '주누돈까스냉면(서현점)',\n",
       " '하누소(창동본점)',\n",
       " '부평막국수',\n",
       " '황산냉면',\n",
       " '한티옥',\n",
       " '에루화',\n",
       " '국시집',\n",
       " '성북동면옥집',\n",
       " '봉피양제주',\n",
       " '해운대밀면',\n",
       " '대동관',\n",
       " '마포본가',\n",
       " '성북동돼지갈비집',\n",
       " '옥천고읍냉면',\n",
       " '신부자식당',\n",
       " '평미가',\n",
       " '봉우화로(강남역점)',\n",
       " '봉피양(양재점)',\n",
       " '한일관(을지로점)',\n",
       " '서초면옥(서래마을점)',\n",
       " '좌우지간',\n",
       " '강남면옥(서대문점)',\n",
       " '봉피양(대치점)',\n",
       " '동무밥상',\n",
       " '강남면옥',\n",
       " '평양면옥(분당점)',\n",
       " '평양냉면',\n",
       " '무삼면옥',\n",
       " '남포면옥(논현동점)',\n",
       " '경평면옥',\n",
       " '할머니냉면집',\n",
       " '을밀대(일산점)',\n",
       " '동신면가',\n",
       " '함흥냉면옥',\n",
       " '평가옥(분당점)',\n",
       " '해민면옥',\n",
       " '유천칡냉면(본점)',\n",
       " '평가옥(강남역점)',\n",
       " '장수원',\n",
       " '속초코다리냉면(고메이494압구정)',\n",
       " '봉피양(잠실점)',\n",
       " '평양면옥',\n",
       " '강강술래(상계점)',\n",
       " '평택고여사집냉면',\n",
       " '깃대봉냉면(본점)',\n",
       " '조선면옥(본점)',\n",
       " '남포면옥(본점)',\n",
       " '피양옥',\n",
       " '해주냉면',\n",
       " '한일관(압구정점)',\n",
       " '평양면옥(논현점)',\n",
       " '봉피양(분당점)',\n",
       " '아소정',\n",
       " '삼도갈비(부천점)',\n",
       " '숯골원냉면',\n",
       " '동아냉면(본점)',\n",
       " '단천면옥',\n",
       " '평가옥(역삼점)',\n",
       " '짱가네',\n",
       " '별미칡냉면',\n",
       " '피노키오냉면',\n",
       " '사리원불고기(잠실점)',\n",
       " '서교밥집',\n",
       " '압구정면옥',\n",
       " '강남면옥(서현점)',\n",
       " '옥천냉면황해식당',\n",
       " '만포면옥',\n",
       " '을밀대(역삼점)',\n",
       " '명동함흥면옥(본점)',\n",
       " '평양면옥(도곡점)',\n",
       " '경인면옥',\n",
       " '변가네옹진냉면',\n",
       " '평가옥(삼성점)',\n",
       " '동아냉면(이태원점)',\n",
       " '제형면옥',\n",
       " '이촌동면옥(이촌직영점)',\n",
       " '태능맥갈비',\n",
       " '도선재청평냉면',\n",
       " '힘냉면록',\n",
       " '사리원(디타워)',\n",
       " '삼미옥',\n",
       " '낙산냉면',\n",
       " '육모정']"
      ]
     },
     "execution_count": 33,
     "metadata": {},
     "output_type": "execute_result"
    }
   ],
   "source": [
    "get_rest_list('냉면')"
   ]
  },
  {
   "cell_type": "code",
   "execution_count": 3,
   "metadata": {
    "scrolled": false
   },
   "outputs": [
    {
     "data": {
      "text/plain": [
       "'허브족발(본점)'"
      ]
     },
     "execution_count": 3,
     "metadata": {},
     "output_type": "execute_result"
    }
   ],
   "source": [
    " get_rest_list('냉면')[0]"
   ]
  },
  {
   "cell_type": "code",
   "execution_count": null,
   "metadata": {},
   "outputs": [],
   "source": [
    "# for item in get_rest_list('냉면'):\n",
    "#     try:\n",
    "#         url = 'https://www.diningcode.com/isearch.php?query=' + item"
   ]
  },
  {
   "cell_type": "code",
   "execution_count": 100,
   "metadata": {},
   "outputs": [],
   "source": [
    "# for item in get_rest_list('냉면'): #음식점이름으로 검색\n",
    "#     url = 'https://www.diningcode.com/isearch.php?query=' + item\n",
    "#     web = requests.get(url).content\n",
    "#     source = BeautifulSoup(web, 'html.parser')\n",
    "#     #print(url)\n",
    "    "
   ]
  },
  {
   "cell_type": "code",
   "execution_count": 4,
   "metadata": {},
   "outputs": [],
   "source": [
    "url = 'https://www.diningcode.com/isearch.php?query=' + '허브족발'\n",
    "web = requests.get(url).content\n",
    "source = BeautifulSoup(web, 'html.parser')"
   ]
  },
  {
   "cell_type": "code",
   "execution_count": 5,
   "metadata": {},
   "outputs": [
    {
     "data": {
      "text/plain": [
       "'https://www.diningcode.com/profile.php?rid=FymUYWb7r9W9'"
      ]
     },
     "execution_count": 5,
     "metadata": {},
     "output_type": "execute_result"
    }
   ],
   "source": [
    "urls_list = []\n",
    "ul_tag = source.find('div', {'id':'div_rn'})\n",
    "li_tag = ul_tag.find('li')\n",
    "a_tag = li_tag.find('a')\n",
    "target_url = 'https://www.diningcode.com' + a_tag.attrs['href']\n",
    "target_url"
   ]
  },
  {
   "cell_type": "code",
   "execution_count": 6,
   "metadata": {},
   "outputs": [],
   "source": [
    "web_review = requests.get(target_url).content\n",
    "source_review = BeautifulSoup(web_review, 'html.parser')"
   ]
  },
  {
   "cell_type": "code",
   "execution_count": 7,
   "metadata": {
    "scrolled": true
   },
   "outputs": [
    {
     "name": "stdout",
     "output_type": "stream",
     "text": [
      "\n",
      "허브족발\n",
      "\n"
     ]
    }
   ],
   "source": [
    "#상호명 꺼내기\n",
    "rest_name = source_review.find('div',{'class':'tit-point'}).get_text()\n",
    "print(rest_name)\n"
   ]
  },
  {
   "cell_type": "code",
   "execution_count": 8,
   "metadata": {},
   "outputs": [
    {
     "name": "stdout",
     "output_type": "stream",
     "text": [
      "67점\n"
     ]
    }
   ],
   "source": [
    "#평균 평점 꺼내기\n",
    "p_tag = source_review.find('p', {'class':'grade'})\n",
    "# p_tag\n",
    "review_point = p_tag.find('strong').get_text()\n",
    "print(review_point)\n"
   ]
  },
  {
   "cell_type": "code",
   "execution_count": 9,
   "metadata": {},
   "outputs": [
    {
     "name": "stdout",
     "output_type": "stream",
     "text": [
      "4.3점\n"
     ]
    }
   ],
   "source": [
    "#평균 별점 꺼내기\n",
    "star_point = source_review.find('p', {'id':'lbl_star_point'}).get_text()\n",
    "star_point = star_point.replace(\"\\n\", \"\") # 교체하다\n",
    "print(star_point)"
   ]
  },
  {
   "cell_type": "code",
   "execution_count": 10,
   "metadata": {
    "scrolled": true
   },
   "outputs": [
    {
     "data": {
      "text/plain": [
       "[<p class=\"review_contents btxt\">족발 입문자에게 데려오면 곧바로 족발보쌈중 족발파가 될 수 있는 곳. 오히려 입맛이 너무 까다로워지지 않을까 걱정해야하는 곳.<br/>\n",
       " <br/>\n",
       " 앞다리가 더 부드러워 인기가 많음. 매운양념소스도 맛있는데 매운걸 잘 못먹는 나로써는 매운편. 몇개 못집어먹을 듯 싶음. 기본앞다리만 시켜도 매운양념 조금 곁들여나오니 첫방문이라면 참고하시길.<br/>\n",
       " <br/>\n",
       " 같이나오는 비냉(막국수아님)의 양념은 어지간한 냉면집보다 맛있음. 면은 그리질기지 않음.<br/>\n",
       " <br/>\n",
       " 근처에 2호점도 있으니 참고하시길.<br/>\n",
       " <br/>\n",
       " 2인분 치고 가격이 쎈 편이지만 그래도 놓칠 수 없는 곳.</p>,\n",
       " <p class=\"review_contents btxt\">1. 맛<br/>\n",
       " 원래 족발 vs 보쌈이라면 무조건 보쌈일 정도로 보쌈파였는데 여기 먹어보고 족발을 더 자주 먹으러 오고 있어요! 우선 족발 특유의 냄새가 하나도 나지않고 고기가 정말 야들야들해요!! 너무 부드럽고 야들야들해서 쑥쑥 들어가는데 여기에 비냉을 말아서 같이 먹으면 그 조합이 기가막힙니다~!! 그리고 느끼할 즈음 된장국을 마셔주면 속이 풀리는 듯하면서 시원하구요!! 족발 좋아하는 분들이라면 특히 와서 맛봐야하는 맛입니다!<br/>\n",
       " <br/>\n",
       " 2. 위치<br/>\n",
       " 당산역 내려서 바로라 접근성이 너무 좋아요~ 찾기도 쉽고 교통도 좋은 곳이라 약속잡기 좋은 위치입니다! <br/>\n",
       " <br/>\n",
       " 3. 친절<br/>\n",
       " 대체로 친절하시나 너무 손님이 많아서 반찬같은거는 셀프로 가져오는게 빨라요!</p>,\n",
       " <p class=\"review_contents btxt\">고기가 야들야들하고 맛있네요 수육같음. 전웬만하면 매운족발파인데 이집은 오라지널이 더 맛있음. 족발시키면 비냉주는데 비냉맛잇음. 단 비냉을 너무 잘게잘라주셔서 양념과 한덩이가되어 끝까지 못먹겠음.. 전반적으로 간이 세서 계란찜과 먹으니 밸런스맞고 jmt. 양은 가격대비 조금적지 않은가??싶지만 맛있으니까요</p>,\n",
       " <p class=\"review_contents btxt\">허브족발<br/>\n",
       " <br/>\n",
       " 당산역에 있는 족발집이다. 근처에 이조족발과 함께 유명한 맛집인데요. 저는 개인적으로 평범한 맛입니다. 동행자는 맛있다고 합니다!. 그리고 사람들이 많아서 조금 바빠보이셔서 정신이 없어보입니다. 화장실은 조금 많이 별로입니다. <br/>\n",
       " <br/>\n",
       " 총평; soso ~ 2.5점/5점 만점</p>,\n",
       " <p class=\"review_contents btxt\">당산역맛집<br/>\n",
       " 3차로 갔는데도 불구하고 고기가 야들야들하니 너무 맛있었다^^<br/>\n",
       " 역에서 나와서 도보로 1분이면 갈수있는것도 장점인듯 <br/>\n",
       " 비빔냉면은 맛있기도 하면서 양까지 많다ㅋㅋ<br/>\n",
       " 비빔냉면도 꼭 같이드시길 추천^^</p>]"
      ]
     },
     "execution_count": 10,
     "metadata": {},
     "output_type": "execute_result"
    }
   ],
   "source": [
    "#리뷰 꺼내기\n",
    "review = source_review.find_all('p',{'class':'review_contents btxt'})\n",
    "review"
   ]
  },
  {
   "cell_type": "code",
   "execution_count": null,
   "metadata": {},
   "outputs": [],
   "source": [
    "#더보기 버튼 눌러서 모든 페이지를 가지고 와야하는데 계속 오류가 생겨서 방법을 찾고있습니다."
   ]
  },
  {
   "cell_type": "code",
   "execution_count": null,
   "metadata": {},
   "outputs": [],
   "source": []
  }
 ],
 "metadata": {
  "kernelspec": {
   "display_name": "Python 3",
   "language": "python",
   "name": "python3"
  },
  "language_info": {
   "codemirror_mode": {
    "name": "ipython",
    "version": 3
   },
   "file_extension": ".py",
   "mimetype": "text/x-python",
   "name": "python",
   "nbconvert_exporter": "python",
   "pygments_lexer": "ipython3",
   "version": "3.7.3"
  }
 },
 "nbformat": 4,
 "nbformat_minor": 2
}
